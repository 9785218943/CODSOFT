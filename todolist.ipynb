{
 "cells": [
  {
   "cell_type": "code",
   "execution_count": null,
   "id": "39821da6-0a3a-4319-a93f-aaf57215f579",
   "metadata": {},
   "outputs": [],
   "source": []
  },
  {
   "cell_type": "code",
   "execution_count": 1,
   "id": "28199efe-eddc-420b-a619-a588cc946c97",
   "metadata": {},
   "outputs": [
    {
     "name": "stdout",
     "output_type": "stream",
     "text": [
      "\n",
      "===== To-Do List =====\n",
      "1. Display Tasks\n",
      "2. Add Task\n",
      "3. Update Task\n",
      "4. Save and Quit\n"
     ]
    },
    {
     "name": "stdin",
     "output_type": "stream",
     "text": [
      "Enter your choice (1-4):  1\n"
     ]
    },
    {
     "name": "stdout",
     "output_type": "stream",
     "text": [
      "No tasks in the to-do list.\n",
      "\n",
      "===== To-Do List =====\n",
      "1. Display Tasks\n",
      "2. Add Task\n",
      "3. Update Task\n",
      "4. Save and Quit\n"
     ]
    },
    {
     "name": "stdin",
     "output_type": "stream",
     "text": [
      "Enter your choice (1-4):  4\n"
     ]
    },
    {
     "name": "stdout",
     "output_type": "stream",
     "text": [
      "To-Do list saved. Exiting the application.\n"
     ]
    }
   ],
   "source": [
    "import pickle\n",
    "import os\n",
    "\n",
    "class ToDoList:\n",
    "    def __init__(self):\n",
    "        self.tasks = []\n",
    "\n",
    "    def display_tasks(self):\n",
    "        if not self.tasks:\n",
    "            print(\"No tasks in the to-do list.\")\n",
    "        else:\n",
    "            for i, task in enumerate(self.tasks, 1):\n",
    "                print(f\"{i}. {task}\")\n",
    "\n",
    "    def add_task(self, task):\n",
    "        self.tasks.append(task)\n",
    "        print(f\"Task '{task}' added to the to-do list.\")\n",
    "\n",
    "    def update_task(self, index, new_task):\n",
    "        if 1 <= index <= len(self.tasks):\n",
    "            self.tasks[index - 1] = new_task\n",
    "            print(f\"Task {index} updated to '{new_task}'.\")\n",
    "        else:\n",
    "            print(\"Invalid task index.\")\n",
    "\n",
    "    def save_to_file(self):\n",
    "        with open(\"todolist.pkl\", \"wb\") as file:\n",
    "            pickle.dump(self.tasks, file)\n",
    "\n",
    "    def load_from_file(self):\n",
    "        if os.path.exists(\"todolist.pkl\"):\n",
    "            with open(\"todolist.pkl\", \"rb\") as file:\n",
    "                self.tasks = pickle.load(file)\n",
    "\n",
    "def main():\n",
    "    todo_list = ToDoList()\n",
    "    todo_list.load_from_file()\n",
    "\n",
    "    while True:\n",
    "        print(\"\\n===== To-Do List =====\")\n",
    "        print(\"1. Display Tasks\")\n",
    "        print(\"2. Add Task\")\n",
    "        print(\"3. Update Task\")\n",
    "        print(\"4. Save and Quit\")\n",
    "\n",
    "        choice = input(\"Enter your choice (1-4): \")\n",
    "\n",
    "        if choice == \"1\":\n",
    "            todo_list.display_tasks()\n",
    "        elif choice == \"2\":\n",
    "            task = input(\"Enter the task: \")\n",
    "            todo_list.add_task(task)\n",
    "        elif choice == \"3\":\n",
    "            index = int(input(\"Enter the task index to update: \"))\n",
    "            new_task = input(\"Enter the new task: \")\n",
    "            todo_list.update_task(index, new_task)\n",
    "        elif choice == \"4\":\n",
    "            todo_list.save_to_file()\n",
    "            print(\"To-Do list saved. Exiting the application.\")\n",
    "            break\n",
    "        else:\n",
    "            print(\"Invalid choice. Please enter a number between 1 and 4.\")\n",
    "\n",
    "if __name__ == \"__main__\":\n",
    "    main()"
   ]
  },
  {
   "cell_type": "code",
   "execution_count": null,
   "id": "da5c21bf-eff2-4552-b072-a3027a0337ab",
   "metadata": {},
   "outputs": [],
   "source": []
  }
 ],
 "metadata": {
  "kernelspec": {
   "display_name": "Python 3 (ipykernel)",
   "language": "python",
   "name": "python3"
  },
  "language_info": {
   "codemirror_mode": {
    "name": "ipython",
    "version": 3
   },
   "file_extension": ".py",
   "mimetype": "text/x-python",
   "name": "python",
   "nbconvert_exporter": "python",
   "pygments_lexer": "ipython3",
   "version": "3.10.8"
  }
 },
 "nbformat": 4,
 "nbformat_minor": 5
}
