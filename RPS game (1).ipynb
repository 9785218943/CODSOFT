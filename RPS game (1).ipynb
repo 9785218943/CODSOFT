{
 "cells": [
  {
   "cell_type": "markdown",
   "id": "052cae01-e9d5-45d3-91c2-a5d68eab3935",
   "metadata": {},
   "source": [
    "# TASK 4\n",
    "\n",
    "User Input: Prompt the user to choose rock, paper, or scissors.\n",
    "\n",
    "Computer Selection: Generate a random choice (rock, paper, or scissors) for\n",
    "\n",
    "the computer.\n",
    "\n",
    "Game Logic: Determine the winner based on the user's choice and the\n",
    "\n",
    "computer's choice.\n",
    "\n",
    "Rock beats scissors, scissors beat paper, and paper beats rock.\n",
    "Display Result: Show the user's choice and the computer's choice.\n",
    "\n",
    "Display the result, whether the user wins, loses, or it's a tie.\n",
    "\n",
    "Score Tracking (Optional): Keep track of the user's and computer's scores for\n",
    "\n",
    "multiple rounds.\n",
    "\n",
    "Play Again: Ask the user if they want to play another round.\n",
    "\n",
    "User Interface: Design a user-friendly interface with clear instructions and\n",
    "\n",
    "feedback."
   ]
  },
  {
   "cell_type": "code",
   "execution_count": 2,
   "id": "c9b7acaf-f0b8-4091-ab6a-1e34c87c1254",
   "metadata": {},
   "outputs": [],
   "source": [
    "import random"
   ]
  },
  {
   "cell_type": "code",
   "execution_count": 9,
   "id": "e15191e5-0a8a-4572-99f1-c7af67a0b153",
   "metadata": {},
   "outputs": [],
   "source": [
    "# Function to get the user's choice with input validation\n",
    "def get_user_choice():\n",
    "    while True:\n",
    "        print(\"\\nWelcome to Rock-Paper-Scissors Game!\")\n",
    "        print(\"Choose one: rock, paper, or scissors\")\n",
    "        user_choice = input(\"Your choice: \").lower()\n",
    "        if user_choice in [\"rock\", \"paper\", \"scissors\"]:\n",
    "            return user_choice\n",
    "        else:\n",
    "            print(\"Invalid choice. Please choose rock, paper, or scissors.\")\n"
   ]
  },
  {
   "cell_type": "code",
   "execution_count": 10,
   "id": "4a2ac380-560c-4804-8bed-2f2cc9a91422",
   "metadata": {},
   "outputs": [],
   "source": [
    "# Function to get the computer's random choice\n",
    "def get_computer_choice():\n",
    "    return random.choice([\"rock\", \"paper\", \"scissors\"])\n",
    "\n",
    "# Function to determine the winner based on user and computer choices\n",
    "def determine_winner(user_choice, computer_choice):\n",
    "    if user_choice == computer_choice:\n",
    "        return \"It's a tie!\"\n",
    "    elif (\n",
    "        (user_choice == \"rock\" and computer_choice == \"scissors\") or\n",
    "        (user_choice == \"scissors\" and computer_choice == \"paper\") or\n",
    "        (user_choice == \"paper\" and computer_choice == \"rock\")\n",
    "    ):\n",
    "        return \"You win!\"\n",
    "    else:\n",
    "        return \"You lose!\""
   ]
  },
  {
   "cell_type": "code",
   "execution_count": 13,
   "id": "71e487bc-0b53-4b1d-82ba-07fd64866199",
   "metadata": {},
   "outputs": [
    {
     "name": "stdout",
     "output_type": "stream",
     "text": [
      "\n",
      "Welcome to Rock-Paper-Scissors Game!\n",
      "Choose one: rock, paper, or scissors\n"
     ]
    },
    {
     "name": "stdin",
     "output_type": "stream",
     "text": [
      "Your choice:  rock\n"
     ]
    },
    {
     "name": "stdout",
     "output_type": "stream",
     "text": [
      "\n",
      "You chose: rock\n",
      "The computer chose: scissors\n",
      "\n",
      "You win!\n",
      "\n",
      "Score - You: 1, Computer: 0\n"
     ]
    },
    {
     "name": "stdin",
     "output_type": "stream",
     "text": [
      "Do you want to play again? (yes/no):  yes\n"
     ]
    },
    {
     "name": "stdout",
     "output_type": "stream",
     "text": [
      "\n",
      "Welcome to Rock-Paper-Scissors Game!\n",
      "Choose one: rock, paper, or scissors\n"
     ]
    },
    {
     "name": "stdin",
     "output_type": "stream",
     "text": [
      "Your choice:  paper\n"
     ]
    },
    {
     "name": "stdout",
     "output_type": "stream",
     "text": [
      "\n",
      "You chose: paper\n",
      "The computer chose: scissors\n",
      "\n",
      "You lose!\n",
      "\n",
      "Score - You: 1, Computer: 1\n"
     ]
    },
    {
     "name": "stdin",
     "output_type": "stream",
     "text": [
      "Do you want to play again? (yes/no):  yes\n"
     ]
    },
    {
     "name": "stdout",
     "output_type": "stream",
     "text": [
      "\n",
      "Welcome to Rock-Paper-Scissors Game!\n",
      "Choose one: rock, paper, or scissors\n"
     ]
    },
    {
     "name": "stdin",
     "output_type": "stream",
     "text": [
      "Your choice:  scissors\n"
     ]
    },
    {
     "name": "stdout",
     "output_type": "stream",
     "text": [
      "\n",
      "You chose: scissors\n",
      "The computer chose: scissors\n",
      "\n",
      "It's a tie!\n",
      "\n",
      "Score - You: 1, Computer: 1\n"
     ]
    },
    {
     "name": "stdin",
     "output_type": "stream",
     "text": [
      "Do you want to play again? (yes/no):  no\n"
     ]
    },
    {
     "name": "stdout",
     "output_type": "stream",
     "text": [
      "\n",
      "Thanks for playing! Final Scores:\n",
      "You: 1, Computer: 1\n"
     ]
    }
   ],
   "source": [
    "# Main function to drive the game\n",
    "def main():\n",
    "    user_score = 0\n",
    "    computer_score = 0\n",
    "\n",
    "    # Game loop\n",
    "    while True:\n",
    "        # Get user and computer choices\n",
    "        user_choice = get_user_choice()\n",
    "        computer_choice = get_computer_choice()\n",
    "\n",
    "        print(f\"\\nYou chose: {user_choice}\")\n",
    "        print(f\"The computer chose: {computer_choice}\\n\")\n",
    "\n",
    "        # Determine the winner and display the result\n",
    "        result = determine_winner(user_choice, computer_choice)\n",
    "        print(result)\n",
    "\n",
    "        # Update scores based on the result\n",
    "        if \"win\" in result:\n",
    "            user_score += 1\n",
    "        elif \"lose\" in result:\n",
    "            computer_score += 1\n",
    "\n",
    "        print(f\"\\nScore - You: {user_score}, Computer: {computer_score}\")\n",
    "        \n",
    "        # Ask the user if they want to play again\n",
    "        play_again = input(\"Do you want to play again? (yes/no): \").lower()\n",
    "        if play_again != \"yes\":\n",
    "            print(\"\\nThanks for playing! Final Scores:\")\n",
    "            print(f\"You: {user_score}, Computer: {computer_score}\")\n",
    "            break\n",
    "\n",
    "# Entry point of the program\n",
    "if __name__ == \"__main__\":\n",
    "    main()"
   ]
  },
  {
   "cell_type": "code",
   "execution_count": null,
   "id": "472dd0bf-afcd-4c88-9637-db3748f19d34",
   "metadata": {},
   "outputs": [],
   "source": []
  }
 ],
 "metadata": {
  "kernelspec": {
   "display_name": "Python 3 (ipykernel)",
   "language": "python",
   "name": "python3"
  },
  "language_info": {
   "codemirror_mode": {
    "name": "ipython",
    "version": 3
   },
   "file_extension": ".py",
   "mimetype": "text/x-python",
   "name": "python",
   "nbconvert_exporter": "python",
   "pygments_lexer": "ipython3",
   "version": "3.10.8"
  }
 },
 "nbformat": 4,
 "nbformat_minor": 5
}
